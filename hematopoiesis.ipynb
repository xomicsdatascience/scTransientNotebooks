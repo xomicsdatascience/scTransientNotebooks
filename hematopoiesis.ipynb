{
 "cells": [
  {
   "cell_type": "markdown",
   "id": "07d40c1a-a76a-4e52-a4a1-6c86eb42772a",
   "metadata": {},
   "source": [
    "# Hematopoiesis dataset\n",
    "\n",
    "This notebook is part of the paper titled, \"Single-Cell Trajectory Inference for Detecting Transient Events in Biological Processes\" by Hutton and Meyer. The data is from the 2015 Paul et al. paper titled, \"[ Transcriptional Heterogeneity and Lineage Commitment in Myeloid Progenitors](https://doi.org/10.1016/j.cell.2015.11.013)\". The file is made available through [Scanpy's](https://scanpy.readthedocs.io/en/stable/) datasets."
   ]
  },
  {
   "cell_type": "code",
   "execution_count": null,
   "id": "be430685-44ae-4931-9c28-a066d3f18d9d",
   "metadata": {},
   "outputs": [],
   "source": [
    "import numpy as np\n",
    "import pandas as pd\n",
    "from wavelet_pseudotime.windowing import GaussianWindow\n",
    "from importlib import reload\n",
    "import wavelet_pseudotime.synthetic\n",
    "import wavelet_pseudotime.process\n",
    "import wavelet_pseudotime.wavelets\n",
    "from wavelet_pseudotime.wavelets import mag_median\n",
    "from matplotlib import pyplot as plt\n",
    "import scanpy as sc\n",
    "import anndata as ad\n",
    "import os\n",
    "from wavelet_pseudotime.wavelets import std_from_median\n",
    "from mpl_toolkits.axes_grid1 import make_axes_locatable\n",
    "\n",
    "from datetime import datetime\n",
    "date_str = datetime.now().strftime(\"%Y_%m_%d\")\n",
    "r_dir = f\"{date_str}_paul15\"\n",
    "if not os.path.exists(r_dir):\n",
    "    os.mkdir(r_dir)\n",
    "sc.settings.figdir = r_dir"
   ]
  },
  {
   "cell_type": "code",
   "execution_count": null,
   "id": "150e635a-0c7d-4a82-97b0-7963c7f98afa",
   "metadata": {},
   "outputs": [],
   "source": [
    "paul15 = wavelet_pseudotime.load_data.load_paul15(process_data=True)"
   ]
  },
  {
   "cell_type": "code",
   "execution_count": null,
   "id": "047cc9b8-60e3-4ed2-9a80-a30de93179a9",
   "metadata": {},
   "outputs": [],
   "source": [
    "sc.tl.umap(paul15)\n",
    "sc.tl.paga(paul15, groups=\"paul15_clusters\")\n",
    "plt.imshow(paul15.uns[\"paga\"][\"connectivities\"].todense())\n",
    "plt.colorbar()"
   ]
  },
  {
   "cell_type": "code",
   "execution_count": null,
   "id": "456def76-74d5-4061-9785-bf68bd0d6295",
   "metadata": {},
   "outputs": [],
   "source": [
    "sc.tl.paga(paul15, groups=\"paul15_clusters\")\n",
    "sc.pl.paga(paul15, threshold=0.8, save=\"_connectivity_thresh08.png\")"
   ]
  },
  {
   "cell_type": "code",
   "execution_count": null,
   "id": "ef43d547-f067-4391-8b52-348cd0fa6348",
   "metadata": {},
   "outputs": [],
   "source": [
    "node_labels = list(paul15.obs[\"paul15_clusters\"].cat.categories)\n",
    "print(node_labels)"
   ]
  },
  {
   "cell_type": "code",
   "execution_count": null,
   "id": "9a668771-45b3-451f-b8df-b713ad1e8205",
   "metadata": {},
   "outputs": [],
   "source": [
    "# Find optimal path between initial (stem cell) cluster and erythrocyte cluster.\n",
    "\n",
    "paul15_path, dist = wavelet_pseudotime.graph_traversal.find_min_cost_path(paul15.uns[\"paga\"][\"connectivities\"], 7, 0)\n",
    "node_labels = list(paul15.obs[\"paul15_clusters\"].cat.categories)\n",
    "wavelet_pseudotime.plotting.draw_path(paul15.uns[\"paga\"][\"pos\"], paul15_path, paul15.uns[\"paga\"][\"connectivities\"], node_labels=node_labels)\n",
    "paul15_labels_path = [list(paul15.obs[\"paul15_clusters\"].cat.categories)[p] for p in paul15_path]\n",
    "plt.xticks([])\n",
    "plt.yticks([])\n",
    "print(paul15_labels_path)"
   ]
  },
  {
   "cell_type": "code",
   "execution_count": null,
   "id": "2555e44c-b11c-49d8-a01f-0e60eedda3bc",
   "metadata": {},
   "outputs": [],
   "source": [
    "paul15"
   ]
  },
  {
   "cell_type": "code",
   "execution_count": null,
   "id": "9c72edc4-13dd-4cdd-b4b6-2e19709d75d1",
   "metadata": {},
   "outputs": [],
   "source": [
    "paul15.obs[\"psupertime\"] = paul15.obs[\"dpt_pseudotime\"]"
   ]
  },
  {
   "cell_type": "code",
   "execution_count": null,
   "id": "5354bc25-c8e0-4ba7-9b2e-c5e132a91354",
   "metadata": {},
   "outputs": [],
   "source": [
    "paul15"
   ]
  },
  {
   "cell_type": "code",
   "execution_count": null,
   "id": "011c04a2-e061-4d9a-aaad-15c2db871ad4",
   "metadata": {},
   "outputs": [],
   "source": [
    "# reload(wavelet_pseudotime.process)"
   ]
  },
  {
   "cell_type": "code",
   "execution_count": null,
   "id": "6b0bf7a8-ab75-48b9-b96b-9a28f6a2b4a4",
   "metadata": {},
   "outputs": [],
   "source": [
    "waves, scores, psd, adata = wavelet_pseudotime.process.pipeline_paul15v2(paul15, trajectory=paul15_labels_path, node_col=\"paul15_clusters\",\n",
    "                                                                        scoring_threshold=3,\n",
    "                                                                        exclude_pt_ends=(0.1,0.9))"
   ]
  },
  {
   "cell_type": "code",
   "execution_count": null,
   "id": "53c69709-d8af-487d-8102-1ba0727952c2",
   "metadata": {},
   "outputs": [],
   "source": [
    "scores_dist = [v for v in scores.values()]"
   ]
  },
  {
   "cell_type": "code",
   "execution_count": null,
   "id": "79e69fb7-7ab0-4fbd-9147-9af692471f2b",
   "metadata": {},
   "outputs": [],
   "source": [
    "plt.hist(scores_dist, bins=100);\n",
    "plt.xlabel(\"Scores\")\n",
    "plt.ylabel(\"Frequency\")\n",
    "plt.title(\"Distribution of gene wavelet scores\")\n",
    "# plt.savefig(f\"{r_dir}/wavelet_scores_dist.png\")"
   ]
  },
  {
   "cell_type": "code",
   "execution_count": null,
   "id": "eb652f49-9ce3-4b84-b766-e798166a67ed",
   "metadata": {
    "scrolled": true
   },
   "outputs": [],
   "source": [
    "for g in waves.keys():\n",
    "    plt.figure()\n",
    "    mmin = np.min(paul15.obs[\"psupertime\"])\n",
    "    mmax = np.max(paul15.obs[\"psupertime\"])\n",
    "    x = np.linspace(mmin, mmax, len(psd[g]))\n",
    "    idx = paul15.obs.index[paul15.obs[\"paul15_clusters\"].isin(paul15_labels_path)]\n",
    "    \n",
    "    plt.plot(paul15[idx, g].obs[\"psupertime\"], paul15[idx, g].X[:,0], \".\")\n",
    "    plt.plot(x, psd[g])\n",
    "    plt.title(g)\n",
    "    plt.savefig(f\"{r_dir}/paul15_wavelet_detect_{g}.png\")"
   ]
  },
  {
   "cell_type": "code",
   "execution_count": null,
   "id": "ecd4d6dc-ee4d-4036-8cad-fca475ef06a1",
   "metadata": {},
   "outputs": [],
   "source": [
    "f = open(f\"{r_dir}/paul15_genes.txt\", \"w\")\n",
    "for g in waves.keys():\n",
    "    f.write(f\"{g}\\n\")\n",
    "f.close()"
   ]
  },
  {
   "cell_type": "code",
   "execution_count": null,
   "id": "d99c5d75-7a1a-45bc-8a02-82bea3186e22",
   "metadata": {},
   "outputs": [],
   "source": [
    "kkeys = list(scores.keys())\n",
    "s = []\n",
    "for k in kkeys:\n",
    "    s.append(scores[k])\n",
    "# s = [v for v in scores.values()]"
   ]
  },
  {
   "cell_type": "code",
   "execution_count": null,
   "id": "08694ea0-cfb0-4856-bfbe-469a2083036a",
   "metadata": {},
   "outputs": [],
   "source": [
    "fig, ax = plt.subplots()\n",
    "\n",
    "ax.hist(s, bins=100, edgecolor=\"black\");\n",
    "ax.set_xlabel(\"Gene score\")\n",
    "ax.set_ylabel(\"Frequency\")\n",
    "ax.set_title(\"Distribution of Gene Scores\")\n",
    "ax.axvline(4, color='red', label=\"Cutoff\")\n",
    "ax.legend()\n",
    "# plt.savefig(f\"{r_dir}/paul15_gene_score.png\")"
   ]
  },
  {
   "cell_type": "code",
   "execution_count": null,
   "id": "9345a58d-45e9-465c-aeff-55ff2689eabe",
   "metadata": {},
   "outputs": [],
   "source": [
    "idx = np.where(np.array(s) > 4)[0]"
   ]
  },
  {
   "cell_type": "code",
   "execution_count": null,
   "id": "0ff463cd-31f0-465f-aa15-255266b50406",
   "metadata": {},
   "outputs": [],
   "source": [
    "signal_keys = []\n",
    "for i in idx:\n",
    "    print(kkeys[i])\n",
    "    signal_keys.append(kkeys[i])"
   ]
  },
  {
   "cell_type": "code",
   "execution_count": null,
   "id": "026df100-ed66-437b-8353-73f8a082c8e2",
   "metadata": {},
   "outputs": [],
   "source": [
    "len(signal_keys)"
   ]
  },
  {
   "cell_type": "code",
   "execution_count": null,
   "id": "4201e4fe-cb5a-4b00-a601-2a381d206198",
   "metadata": {},
   "outputs": [],
   "source": [
    "wt = wavelet_pseudotime.wavelets.WaveletTransform(scales=[i for i in range(1,4)], wavelet=\"mexh\")"
   ]
  },
  {
   "cell_type": "code",
   "execution_count": null,
   "id": "4cda5561-630b-420d-a1e0-390a0a45d9af",
   "metadata": {
    "scrolled": true
   },
   "outputs": [],
   "source": [
    "for g in signal_keys:\n",
    "    fig, (ax0, ax1) = plt.subplots(2,1)\n",
    "    mmin = np.min(paul15.obs[\"psupertime\"])\n",
    "    mmax = np.max(paul15.obs[\"psupertime\"])\n",
    "    x = np.linspace(mmin, mmax, len(psd[g]))\n",
    "    idx = paul15.obs.index[paul15.obs[\"paul15_clusters\"].isin(paul15_labels_path)]\n",
    "    \n",
    "    ax0.plot(paul15[idx, g].obs[\"psupertime\"], paul15[idx, g].X[:,0], \".\")\n",
    "    ax0.plot(x, psd[g])\n",
    "    ax0.set_title(g)\n",
    "    ax0.set_xlim([0,1])\n",
    "    ax0.set_ylabel(\"Gene expression\")\n",
    "    coefs, _ = wt.apply(psd[g])\n",
    "    coefs_std = std_from_median(coefs)\n",
    "    \n",
    "    im = ax1.imshow(np.sqrt(np.abs(coefs * coefs_std)))\n",
    "    ax1.set_yticks([i for i in range(0,coefs.shape[0])])\n",
    "    ax1.set_yticklabels([i for i in range(1,coefs.shape[0]+1)])\n",
    "    ax1.set_xticks([])\n",
    "    ax1.set_ylabel(\"Scale\")\n",
    "    ax1.set_title(\"Square root of score\")\n",
    "    fig.tight_layout()\n",
    "    if not os.path.exists(f\"{r_dir}/paul15_pseudotimecourses\"):\n",
    "        os.mkdir(f\"{r_dir}/paul15_pseudotimecourses\")\n",
    "    fig.savefig(f\"{r_dir}/paul15_pseudotimecourses/{g}.png\", bbox_inches=\"tight\")\n",
    "    fig.savefig(f\"{r_dir}/paul15_pseudotimecourses/{g}.svg\", bbox_inches=\"tight\")"
   ]
  },
  {
   "cell_type": "code",
   "execution_count": null,
   "id": "77a14d62-7845-43fb-8d97-a94699a9ae77",
   "metadata": {},
   "outputs": [],
   "source": [
    "paul15_labels_path"
   ]
  },
  {
   "cell_type": "code",
   "execution_count": null,
   "id": "0b72fe92-e2ce-4773-98cc-469ea69bbbb5",
   "metadata": {},
   "outputs": [],
   "source": [
    "fig, ax = plt.subplots(figsize=(10, 7))\n",
    "\n",
    "keep_idx = adata.obs[\"paul15_clusters\"].isin(paul15_labels_path)\n",
    "adata2 = adata[keep_idx,:].copy()\n",
    "number_bins = 10\n",
    "adata2.obs['pt_bin'] = pd.cut(adata2.obs['psupertime'], bins=number_bins)\n",
    "\n",
    "# in_path = adata2.obs[\"paul15_clusters\"]\n",
    "ct = pd.crosstab(adata2.obs['pt_bin'], adata2.obs['paul15_clusters'])\n",
    "fractions = ct.div(ct.sum(axis=1), axis=0)\n",
    "bin_midpoints = np.array([(interval.left + interval.right) / 2 for interval in fractions.index])\n",
    "categories = fractions.columns.tolist()\n",
    "stack_data = [fractions[cat].values for cat in categories]\n",
    "\n",
    "ax.stackplot(bin_midpoints, stack_data, labels=categories)\n",
    "ax.legend()\n"
   ]
  },
  {
   "cell_type": "markdown",
   "id": "8f53a7cd-706a-41be-bf74-93c94be7e579",
   "metadata": {},
   "source": [
    "# Multi-panel figure for paper"
   ]
  },
  {
   "cell_type": "code",
   "execution_count": null,
   "id": "91905716-31d7-477d-b3b6-61d917562486",
   "metadata": {},
   "outputs": [],
   "source": [
    "from string import ascii_uppercase\n",
    "import matplotlib.gridspec as gridspec"
   ]
  },
  {
   "cell_type": "code",
   "execution_count": null,
   "id": "631dd76e-a42e-4d5d-8848-b64a4bfdf497",
   "metadata": {},
   "outputs": [],
   "source": [
    "from gprofiler import GProfiler\n",
    "gp = GProfiler(return_dataframe=True)\n",
    "results = gp.profile(organism=\"hsapiens\", query=signal_keys, sources=['GO:BP', 'GO:MF', 'GO:CC'])\n",
    "results.sort_values(by=\"p_value\", ascending=True)\n",
    "sig_results = results[results[\"p_value\"] < 0.05]"
   ]
  },
  {
   "cell_type": "code",
   "execution_count": null,
   "id": "1e8a3d8b-d322-41ea-8f26-84a1041e3a4c",
   "metadata": {},
   "outputs": [],
   "source": [
    "sources=['GO:BP', 'GO:MF', 'GO:CC']\n",
    "p_min = np.min(sig_results[\"p_value\"])\n",
    "p_max = np.max(sig_results[\"p_value\"])\n",
    "annot = [\"cell redox homeostasis\", \"peroxiredoxin activity\", \"heme metabolic process\"]\n",
    "# p_min = np.min([mmin, p_min])\n",
    "# p_max = np.max([mmax, p_max])\n",
    "p_min *= 0.8\n",
    "p_max *= 1.3"
   ]
  },
  {
   "cell_type": "code",
   "execution_count": null,
   "id": "871f2483-d4b2-450b-8c53-16e3cc60a949",
   "metadata": {},
   "outputs": [],
   "source": [
    "def plot_df(df: pd.DataFrame, title: str = None, save=None, ax=None, pmin=None, pmax=None, sources=None, annotated_names: list[str] = None\n",
    ") -> None:\n",
    "    \"\"\"\n",
    "    Plots each row of the DataFrame as a circle grouped by the 'source' column.\n",
    "    The horizontal axis displays -log10(p_value) and the vertical positions\n",
    "    are arranged based on the source group with added jitter.\n",
    "    \n",
    "    A legend is added for both the source groups and the circle size scale (intersection_size).\n",
    "    \n",
    "    Parameters:\n",
    "        df (pd.DataFrame): A DataFrame containing the columns:\n",
    "            - 'source': categorical column with 3 categories.\n",
    "            - 'p_value': continuous values.\n",
    "            - 'intersection_size': integers (will be used to scale circle sizes).\n",
    "            - 'name': a descriptor for the row (unused in the plot).\n",
    "    \"\"\"\n",
    "    # Compute the horizontal position: -log10(p_value)\n",
    "    # (Make sure there are no p_value values equal to 0)\n",
    "    df = df.copy()  # Avoid modifying the original DataFrame\n",
    "    if ax is None:\n",
    "        fig, ax = plt.subplots()\n",
    "        \n",
    "    if (df[\"p_value\"] <= 0).any():\n",
    "        raise ValueError(\"All p_value entries must be positive so that -log10 can be computed.\")\n",
    "\n",
    "    df[\"neg_log10\"] = -np.log10(df[\"p_value\"])\n",
    "\n",
    "    # Create a mapping for each unique source to a base y-position.\n",
    "    if sources is None:\n",
    "        unique_sources = sorted(df[\"source\"].unique())\n",
    "    else:\n",
    "        unique_sources = sorted(np.unique(sources))\n",
    "    source_to_index = {source: idx for idx, source in enumerate(unique_sources, start=1)}\n",
    "\n",
    "    # Map sources to base y positions.\n",
    "    df[\"base_y\"] = df[\"source\"].map(source_to_index)\n",
    "\n",
    "    # Add vertical jitter to separate the circles\n",
    "    np.random.seed(0)  # For reproducibility\n",
    "    jitter = np.random.uniform(-0.2, 0.2, size=len(df))\n",
    "    df[\"y_pos\"] = df[\"base_y\"] + jitter\n",
    "\n",
    "    # Create the plot\n",
    "    # plt.figure(figsize=(4,4))\n",
    "\n",
    "    # Plot each group with its own color and label.\n",
    "    for source in unique_sources:\n",
    "        subset = df[df[\"source\"] == source]\n",
    "        ax.scatter(\n",
    "            subset[\"neg_log10\"],\n",
    "            subset[\"y_pos\"],\n",
    "            s=subset[\"intersection_size\"] * 10,  # Scale circle sizes; adjust factor as needed.\n",
    "            alpha=0.7,\n",
    "            label=source,  # This will be used in the legend for sources.\n",
    "            edgecolors=\"w\",\n",
    "        )\n",
    "\n",
    "    ax.set_xlabel(\"-log10(p_value)\", fontsize=16)\n",
    "    ax.set_yticks(list(source_to_index.values()), list(source_to_index.keys()), fontsize=14)\n",
    "    ax.set_ylim([0,4])\n",
    "    # plt.ylabel(\"Source Group\")\n",
    "    if title is None:\n",
    "        ax.set_title(\"Function Enrichment Analysis\")\n",
    "    else:\n",
    "        ax.set_title(title)\n",
    "\n",
    "    # First, add the legend for the source groups.\n",
    "    # source_legend = plt.legend(title=\"Source\", loc=\"upper right\")\n",
    "    # plt.gca().add_artist(source_legend)\n",
    "\n",
    "    # Now, create a legend for the circle sizes corresponding to 'intersection_size'.\n",
    "    # Use three representative sizes: min, median, and max.\n",
    "    size_min = df[\"intersection_size\"].min()\n",
    "    # size_median = int(df[\"intersection_size\"].median())\n",
    "    \n",
    "    size_max = df[\"intersection_size\"].max()\n",
    "    size_median = int((size_min + size_max)/2) #int(df[\"intersection_size\"].median())\n",
    "    size_scale = 10  # This is the factor applied to intersection_size for the marker size\n",
    "\n",
    "    sizes = [size_min, size_median, size_max]\n",
    "    markers = [\n",
    "        ax.scatter([], [], s=size * size_scale, color=\"gray\", alpha=0.7, edgecolors=\"w\")\n",
    "        for size in sizes\n",
    "    ]\n",
    "    labels = [f\"{size}\" for size in sizes]\n",
    "\n",
    "    if annotated_names:\n",
    "        offset_x = -1.0\n",
    "        offset_y = -0.5\n",
    "        last_sources = set()\n",
    "        for i, row in df.iterrows():\n",
    "            \n",
    "            if row[\"name\"] in annotated_names:\n",
    "                if row[\"source\"] in last_sources:\n",
    "                    print(\"swap\")\n",
    "                    # offset_x *= -1\n",
    "                    offset_y *= -1\n",
    "                x_point = row[\"neg_log10\"]\n",
    "                y_point = row[\"y_pos\"]\n",
    "                x_text = x_point + offset_x\n",
    "                y_text = y_point + offset_y\n",
    "                print(row[\"source\"])\n",
    "                \n",
    "                last_sources.add(row[\"source\"])\n",
    "                # last_source = row[\"source\"]\n",
    "                ax.annotate(\n",
    "                    row[\"name\"],\n",
    "                    xy=(x_point, y_point),\n",
    "                    xytext=(x_text, y_text),\n",
    "                    arrowprops=dict(facecolor=\"black\", arrowstyle=\"->\"),\n",
    "                    fontsize=10,\n",
    "                    bbox=dict(boxstyle=\"round,pad=0.3\", fc=\"yellow\", alpha=0.5)\n",
    "                )\n",
    "\n",
    "    ax.legend(markers, labels, title=\"Intersection Size\", bbox_to_anchor=(1.05, 1), loc=\"upper left\", borderaxespad=0)\n",
    "    ax.grid()\n",
    "    if pmin is not None and pmax is not None:\n",
    "        ax.set_xlim([pmin, pmax])\n",
    "    plt.tight_layout()\n",
    "    if save is not None:\n",
    "        plt.savefig(save)\n"
   ]
  },
  {
   "cell_type": "code",
   "execution_count": null,
   "id": "35d7857c-37aa-41b1-8c05-491981506535",
   "metadata": {},
   "outputs": [],
   "source": [
    "# Put together full figure for paper.\n",
    "\n",
    "fig = plt.figure(figsize=(8,10))\n",
    "gs = gridspec.GridSpec(nrows=4, ncols=2, height_ratios=[1,1,1,0.1], figure=fig)\n",
    "fontsize=16\n",
    "\n",
    "ax = fig.add_subplot(gs[0,1])\n",
    "paul15_path, dist = wavelet_pseudotime.graph_traversal.find_min_cost_path(paul15.uns[\"paga\"][\"connectivities\"], 7, 0)\n",
    "node_labels = list(paul15.obs[\"paul15_clusters\"].cat.categories)\n",
    "wavelet_pseudotime.plotting.draw_path(paul15.uns[\"paga\"][\"pos\"], paul15_path, paul15.uns[\"paga\"][\"connectivities\"], node_labels=node_labels, ax=ax)\n",
    "# wavelet_pseudotime.plotting.draw_path(paul15.uns[\"paga\"][\"pos\"], paul15_path, paul15.uns[\"paga\"][\"connectivities\"], node_labels=node_labels)\n",
    "ax.set_xticks([])\n",
    "ax.set_yticks([])\n",
    "ax.set_title(\"Minimum cost path\", fontsize=fontsize)\n",
    "paul15_labels_path = [list(paul15.obs[\"paul15_clusters\"].cat.categories)[p] for p in paul15_path]\n",
    "ax.text(0.05, 0.95, ascii_uppercase[1], transform=ax.transAxes,\n",
    "            fontsize=16, fontweight='bold', va='top', ha='left')\n",
    "\n",
    "ax = fig.add_subplot(gs[1,0])\n",
    "keep_idx = adata.obs[\"paul15_clusters\"].isin(paul15_labels_path)\n",
    "adata2 = adata[keep_idx,:].copy()\n",
    "number_bins = 10\n",
    "adata2.obs['pt_bin'] = pd.cut(adata2.obs['psupertime'], bins=number_bins)\n",
    "ct = pd.crosstab(adata2.obs['pt_bin'], adata2.obs['paul15_clusters'])\n",
    "fractions = ct.div(ct.sum(axis=1), axis=0)\n",
    "bin_midpoints = np.array([(interval.left + interval.right) / 2 for interval in fractions.index])\n",
    "categories = fractions.columns.tolist()\n",
    "stack_data = [fractions[cat].values for cat in categories]\n",
    "ax.stackplot(bin_midpoints, stack_data, labels=categories)\n",
    "ax.legend()\n",
    "ax.set_title(\"Proportion of cell labels\", fontsize=fontsize)\n",
    "ax.set_xlabel(\"Pseudotime\", fontsize=fontsize)\n",
    "ax.set_xlim(bin_midpoints[0], bin_midpoints[-1])\n",
    "# Remove all margins from both axes.\n",
    "ax.margins(x=0, y=0)\n",
    "# Adjust subplot parameters to use all the figure area.\n",
    "plt.subplots_adjust(left=0, right=1, top=1, bottom=0)\n",
    "\n",
    "ax.text(0.05, 0.95, ascii_uppercase[2], transform=ax.transAxes,\n",
    "            fontsize=16, fontweight='bold', va='top', ha='left')\n",
    "\n",
    "ax = fig.add_subplot(gs[1,1])\n",
    "ax.hist(s, bins=100);\n",
    "ax.set_xlabel(\"TES\", fontsize=fontsize)\n",
    "ax.set_ylabel(\"Frequency\", fontsize=fontsize)\n",
    "ax.set_title(\"Distribution of TES\", fontsize=fontsize)\n",
    "ax.axvline(4, color='red', label=\"Cutoff\")\n",
    "ax.legend()\n",
    "ax.text(0.05, 0.95, ascii_uppercase[3], transform=ax.transAxes,\n",
    "            fontsize=16, fontweight='bold', va='top', ha='left')\n",
    "\n",
    "ax0 = fig.add_subplot(gs[2,0])\n",
    "g = \"Nfe2\"\n",
    "mmin = np.min(paul15.obs[\"psupertime\"])\n",
    "mmax = np.max(paul15.obs[\"psupertime\"])\n",
    "x = np.linspace(mmin, mmax, len(psd[g]))\n",
    "idx = paul15.obs.index[paul15.obs[\"paul15_clusters\"].isin(paul15_labels_path)]\n",
    "\n",
    "ax0.plot(paul15[idx, g].obs[\"psupertime\"], paul15[idx, g].X[:,0], \".\")\n",
    "ax0.plot(x, psd[g])\n",
    "ax0.set_title(g)\n",
    "ax0.set_xlim([0,1])\n",
    "ax0.set_ylabel(\"Gene expression\", fontsize=fontsize)\n",
    "ax0.text(0.05, 0.95, ascii_uppercase[4], transform=ax0.transAxes,\n",
    "            fontsize=16, fontweight='bold', va='top', ha='left')\n",
    "coefs, _ = wt.apply(psd[g])\n",
    "coefs_std = std_from_median(coefs)\n",
    "\n",
    "ax1 = fig.add_subplot(gs[3,0])\n",
    "im = ax1.imshow(np.sqrt(np.abs(coefs * coefs_std)))\n",
    "ax1.set_yticks([i for i in range(0,coefs.shape[0])])\n",
    "ax1.set_yticklabels([i for i in range(1,coefs.shape[0]+1)])\n",
    "ax1.set_xticks([])\n",
    "ax1.set_ylabel(\"Scale\", fontsize=fontsize-2)\n",
    "ax1.set_title(\"Root of TES\", fontsize=fontsize)\n",
    "ax1.text(0.01, 1.8, ascii_uppercase[6], transform=ax1.transAxes,\n",
    "            fontsize=16, fontweight='bold', va='top', ha='left')\n",
    "\n",
    "ax = fig.add_subplot(gs[2,1])\n",
    "p_min = np.min(sig_results[\"p_value\"])\n",
    "p_max = np.max(sig_results[\"p_value\"])\n",
    "annot = [\"cell redox homeostasis\", \"peroxiredoxin activity\", \"heme metabolic process\"]\n",
    "p_min *= 0.8\n",
    "p_max *= 1.3\n",
    "\n",
    "plot_df(sig_results, title=f\"Enrichment for Erythropoiesis\", ax=ax, pmin = -np.log10(p_max), pmax=-np.log10(p_min), sources=sources, annotated_names=annot)\n",
    "ax.text(0.05, 0.95, ascii_uppercase[5], transform=ax.transAxes,\n",
    "            fontsize=16, fontweight='bold', va='top', ha='left')\n",
    "\n",
    "\n",
    "\n",
    "ax = fig.add_subplot(gs[0,0])\n",
    "ax.set_title(\"PAGA connectivity\", fontsize=fontsize)\n",
    "sc.tl.paga(paul15, groups=\"paul15_clusters\")\n",
    "ax.text(0.05, 0.95, ascii_uppercase[0], transform=ax.transAxes,\n",
    "            fontsize=16, fontweight='bold', va='top', ha='left')\n",
    "sc.pl.paga(paul15, threshold=0.8, ax=ax, show=False)\n",
    "fig.tight_layout()\n",
    "\n",
    "fig.savefig(f\"{r_dir}/fig3_hemo.png\")\n",
    "fig.savefig(f\"{r_dir}/fig3_hemo.svg\")"
   ]
  },
  {
   "cell_type": "code",
   "execution_count": null,
   "id": "7d831a73-b118-4abc-a320-b140c495ec8c",
   "metadata": {},
   "outputs": [],
   "source": []
  }
 ],
 "metadata": {
  "kernelspec": {
   "display_name": "Python311-wavelets",
   "language": "python",
   "name": "python311-wavelets"
  },
  "language_info": {
   "codemirror_mode": {
    "name": "ipython",
    "version": 3
   },
   "file_extension": ".py",
   "mimetype": "text/x-python",
   "name": "python",
   "nbconvert_exporter": "python",
   "pygments_lexer": "ipython3",
   "version": "3.11.11"
  }
 },
 "nbformat": 4,
 "nbformat_minor": 5
}
