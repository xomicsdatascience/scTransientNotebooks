{
 "cells": [
  {
   "cell_type": "markdown",
   "id": "b396df7c-f444-4848-bd5b-0c89661d8f22",
   "metadata": {},
   "source": [
    "# Cell cycle dataset\n",
    "\n",
    "This notebook is part of the paper titled, \"Single-Cell Trajectory Inference for Detecting Transient Events in Biological Processes\" by Hutton and Meyer. The data is from the 2025 Bubis et al. paper titled, \"[Challenging the Astral mass analyzer to quantify up to 5,300 proteins per single cell at unseen accuracy to uncover cellular heterogeneity](https://doi.org/10.1038/s41592-024-02559-1)\"."
   ]
  },
  {
   "cell_type": "code",
   "execution_count": null,
   "id": "c8ae78fe-8442-4795-9e27-37cd82689578",
   "metadata": {},
   "outputs": [],
   "source": [
    "import numpy as np\n",
    "import pandas as pd\n",
    "from wavelet_pseudotime.windowing import GaussianWindow\n",
    "from importlib import reload\n",
    "import wavelet_pseudotime.synthetic\n",
    "import wavelet_pseudotime.process\n",
    "import wavelet_pseudotime.wavelets\n",
    "from wavelet_pseudotime.wavelets import mag_median\n",
    "from matplotlib import pyplot as plt\n",
    "import scanpy as sc\n",
    "import anndata as ad\n",
    "import pypsupertime\n",
    "\n",
    "import os\n",
    "from datetime import datetime\n",
    "date_str = datetime.now().strftime(\"%Y_%m_%d\")\n",
    "r_dir = f\"{date_str}_cellcycle\"\n",
    "if not os.path.exists(r_dir):\n",
    "    os.mkdir(r_dir)"
   ]
  },
  {
   "cell_type": "code",
   "execution_count": null,
   "id": "fd7feb27-d3e3-4027-b997-5da212159360",
   "metadata": {
    "scrolled": true
   },
   "outputs": [],
   "source": [
    "thresh = 4\n",
    "window_params = {\"n_windows\": 30, \"sigma\": 0.03, \"max_distance\": 0.11}\n",
    "\n",
    "wr, scoresr, psdr, adata, psuper = wavelet_pseudotime.process.pipeline_astral_cellcycle(wavelet_pseudotime.load_data.load_astral,\n",
    "                                                                                        window_params=window_params,\n",
    "                                                                                        scoring_threshold=thresh,\n",
    "                                                                                        coverage_threshold=0.0,\n",
    "                                                                                        save_name=f\"{r_dir}/astral2.h5ad\",\n",
    "                                                                                        exclude_pt_ends=(0.1,0.9),\n",
    "                                                                                        repeat=True)"
   ]
  },
  {
   "cell_type": "code",
   "execution_count": null,
   "id": "3f36048f-1739-4101-b887-6b6b4ec83d16",
   "metadata": {},
   "outputs": [],
   "source": [
    "num_bins = 20\n",
    "\n",
    "# Compute bin edges and assign bins\n",
    "adata.obs['psupertime_bin'], bin_edges = pd.qcut(adata.obs['psupertime'], q=num_bins, labels=False, retbins=True)\n",
    "\n",
    "# compute bin midpoints for correct x-axis scaling\n",
    "bin_midpoints = (bin_edges[:-1] + bin_edges[1:]) / 2\n",
    "phase_proportions = adata.obs.groupby(['psupertime_bin', 'phase']).size().unstack(fill_value=0)\n",
    "phase_proportions = phase_proportions.div(phase_proportions.sum(axis=1), axis=0)\n",
    "\n",
    "# for use in large figure at end of notebook\n",
    "fig9_x = bin_midpoints\n",
    "fig9_y = phase_proportions.T.values\n",
    "fig9_labels=phase_proportions.columns\n",
    "\n",
    "# Replot with original psupertime values on x-axis\n",
    "plt.figure(figsize=(8, 5))\n",
    "plt.stackplot(bin_midpoints, phase_proportions.T.values, labels=phase_proportions.columns, alpha=0.8)\n",
    "\n",
    "# Formatting\n",
    "plt.xlabel(\"Psupertime\")  # Change x-axis label\n",
    "plt.ylabel(\"Proportion of Cells\")\n",
    "plt.title(\"Stacked Cell Cycle Phase Proportions Across Psupertime\")\n",
    "plt.legend(title=\"Phase\", bbox_to_anchor=(1.05, 1), loc='upper left')\n",
    "plt.grid(False)\n"
   ]
  },
  {
   "cell_type": "code",
   "execution_count": null,
   "id": "8caf35b4-ac6a-46b8-a6be-97e52610f250",
   "metadata": {},
   "outputs": [],
   "source": [
    "phase_proportions"
   ]
  },
  {
   "cell_type": "code",
   "execution_count": null,
   "id": "1b23249a-61e2-4577-98ec-c8c3eb71a343",
   "metadata": {},
   "outputs": [],
   "source": [
    "phase_proportions.shape[0]"
   ]
  },
  {
   "cell_type": "code",
   "execution_count": null,
   "id": "b6251b41-f4f2-4d40-a044-0237bdea3083",
   "metadata": {},
   "outputs": [],
   "source": [
    "last_g1_idx = np.where(phase_proportions[\"G1\"] <= 0.5)[0][0]  # 5\n",
    "last_s_idx = np.where(phase_proportions[\"S\"][last_g1_idx+1:] <= 0.5)[0][0] + last_g1_idx  # 11\n",
    "last_g1_idx /= phase_proportions.shape[0]  # get fraction along pt  (this is bad variable naming, I know)\n",
    "last_s_idx /= phase_proportions.shape[0]  # get fraction along pt\n",
    "# pt_min = np.min(adata.obs[\"psupertime\"])\n",
    "# pt_max = np.max(adata.obs[\"psupertime\"])\n",
    "pt_min = 0\n",
    "pt_max = 29\n",
    "last_g1 = (pt_max - pt_min) * last_g1_idx + pt_min\n",
    "last_s = (pt_max-pt_min) * last_s_idx + pt_min"
   ]
  },
  {
   "cell_type": "code",
   "execution_count": null,
   "id": "0a01bf5d-aba3-47cd-8037-e14d4617ad29",
   "metadata": {},
   "outputs": [],
   "source": [
    "adata.obs[\"phase\"].value_counts()"
   ]
  },
  {
   "cell_type": "code",
   "execution_count": null,
   "id": "933a9dc1-1fc9-4667-baac-f22f78d21f44",
   "metadata": {},
   "outputs": [],
   "source": [
    "thresh = 7\n",
    "g_above_thresh = [k for k, v in scoresr.items() if v > thresh]\n",
    "print(len(g_above_thresh))"
   ]
  },
  {
   "cell_type": "code",
   "execution_count": null,
   "id": "c69c2ee1-233b-479b-b9b9-7b9f4f028c7e",
   "metadata": {},
   "outputs": [],
   "source": [
    "pt_above_thresh = []\n",
    "for g in g_above_thresh:\n",
    "    pt_above_thresh.append(psdr[g])"
   ]
  },
  {
   "cell_type": "code",
   "execution_count": null,
   "id": "d77c9fe0-e207-48cc-bfb6-7dc9b4dab315",
   "metadata": {},
   "outputs": [],
   "source": [
    "all_scores = list(scoresr.values())\n",
    "plt.hist(all_scores, bins=500);\n",
    "plt.xlabel(\"Score\")\n",
    "plt.ylabel(\"Frequency\")\n",
    "plt.title(\"Score distribution for genes in cell cycle dataset\")"
   ]
  },
  {
   "cell_type": "code",
   "execution_count": null,
   "id": "b4bcfa29-42be-48af-ae32-480b121aa6cb",
   "metadata": {},
   "outputs": [],
   "source": [
    "import matplotlib.pyplot as plt\n",
    "from sklearn.cluster import KMeans\n",
    "from sklearn.metrics import silhouette_score\n",
    "import numpy as np\n",
    "from collections import defaultdict as dd\n",
    "kmeans = KMeans(n_clusters=5, random_state=0)\n",
    "labels = kmeans.fit_predict(pt_above_thresh)"
   ]
  },
  {
   "cell_type": "code",
   "execution_count": null,
   "id": "08bdd4f1-874c-4beb-b053-05094793fdcc",
   "metadata": {},
   "outputs": [],
   "source": [
    "c = dd(list)\n",
    "for idx_g, g in enumerate(g_above_thresh):\n",
    "    c[labels[idx_g]].append(g)"
   ]
  },
  {
   "cell_type": "code",
   "execution_count": null,
   "id": "1577d475-4d64-4d44-b367-bcec7b3f9f7f",
   "metadata": {},
   "outputs": [],
   "source": [
    "for idx in range(5):\n",
    "    fig, ax = plt.subplots()\n",
    "    for g in c[idx]:\n",
    "        ax.plot(psdr[g])\n",
    "    ax.axvline(last_g1, linestyle=\"--\")\n",
    "    ax.axvline(last_s, linestyle=\"--\")\n",
    "    ax.set_title(f\"Cluster {idx}\")\n",
    "    ax.set_xticks([5,15,25])\n",
    "    ax.set_xticklabels([\"G1\", \"S\", \"G2M\"])\n",
    "    fig.savefig(f\"{r_dir}/cluster_{idx}.png\")"
   ]
  },
  {
   "cell_type": "code",
   "execution_count": null,
   "id": "55772cfd-bc25-48cd-a1bf-59311916c4d2",
   "metadata": {},
   "outputs": [],
   "source": [
    "# write out genes in each cluster\n",
    "for idx in range(5):\n",
    "    f = open(f\"{r_dir}/genes_group_{idx}.txt\", \"w\")\n",
    "    for g in c[idx]:\n",
    "        f.write(f\"{g}\\n\")\n",
    "    f.close()"
   ]
  },
  {
   "cell_type": "code",
   "execution_count": null,
   "id": "05990f21-e070-443a-b8e7-72bcf4bce99f",
   "metadata": {
    "scrolled": true
   },
   "outputs": [],
   "source": [
    "## For writing out all genes\n",
    "\n",
    "# f = open(f\"{r_dir}/astral_genes.txt\", \"w\")\n",
    "# for g in g_above_thresh:\n",
    "#     print(g)\n",
    "#     f.write(f\"{g}\\n\")\n",
    "# f.close()"
   ]
  },
  {
   "cell_type": "code",
   "execution_count": null,
   "id": "e43040ed-a825-44a8-9d2f-0efa4acc67a4",
   "metadata": {},
   "outputs": [],
   "source": [
    "# Compute G1 and S to be in PT instead of by index\n",
    "\n",
    "last_g1_idx = np.where(phase_proportions[\"G1\"] <= 0.5)[0][0]  # 5\n",
    "last_s_idx = np.where(phase_proportions[\"S\"][last_g1_idx+1:] <= 0.5)[0][0] + last_g1_idx  # 11\n",
    "last_g1_idx /= phase_proportions.shape[0]  # get fraction along pt\n",
    "last_s_idx /= phase_proportions.shape[0]  # get fraction along pt\n",
    "pt_min = np.min(adata.obs[\"psupertime\"])\n",
    "pt_max = np.max(adata.obs[\"psupertime\"])\n",
    "# pt_min = 0\n",
    "# pt_max = 29\n",
    "last_g1_pt = (pt_max - pt_min) * last_g1_idx + pt_min\n",
    "last_s_pt = (pt_max-pt_min) * last_s_idx + pt_min"
   ]
  },
  {
   "cell_type": "code",
   "execution_count": null,
   "id": "cf03357e-66b9-4d19-aac5-9eb47ce66a43",
   "metadata": {},
   "outputs": [],
   "source": [
    "g = \"AK6\"\n",
    "x = np.linspace(np.min(adata.obs[\"psupertime\"]), np.max(adata.obs[\"psupertime\"]), len(psdr[g]))\n",
    "plt.plot(x, psdr[g])\n",
    "plt.plot(adata.obs[\"psupertime\"], adata[:, \"AK6\"].X[:, 0], \".\")\n",
    "plt.axvline(last_g1_pt, linestyle=\":\", label=\"Transition to S\")\n",
    "plt.axvline(last_s_pt, linestyle=\"--\", label=\"Transition to G2/M\")\n",
    "plt.legend()\n",
    "plt.title(f\"{g} expression along pseudotime\")\n",
    "plt.xlabel(\"Pseudotime\")\n",
    "plt.ylabel(\"Gene expression\")\n",
    "plt.savefig(f\"{r_dir}/{g}_expression.png\")"
   ]
  },
  {
   "cell_type": "code",
   "execution_count": null,
   "id": "cce056d1-cc65-47e7-ade3-221e2972d00a",
   "metadata": {},
   "outputs": [],
   "source": [
    "g = \"ATL2\"\n",
    "x = np.linspace(np.min(adata.obs[\"psupertime\"]), np.max(adata.obs[\"psupertime\"]), len(psdr[g]))\n",
    "plt.plot(x, psdr[g])\n",
    "plt.plot(adata.obs[\"psupertime\"], adata[:, g].X[:, 0], \".\")\n",
    "plt.axvline((pt_max - pt_min)*5/20 + pt_min, linestyle=\":\", label=\"Transition to S\")\n",
    "plt.axvline((pt_max-pt_min)*11/20 + pt_min, linestyle=\"--\", label=\"Transition to G2/M\")\n",
    "plt.legend()\n",
    "plt.title(f\"{g} expression along pseudotime\")\n",
    "plt.xlabel(\"Pseudotime\")\n",
    "plt.ylabel(\"Gene expression\")\n",
    "plt.savefig(f\"{r_dir}/{g}_expression.png\")"
   ]
  },
  {
   "cell_type": "markdown",
   "id": "46b4e83a-9057-455e-9334-59e4dac72cbf",
   "metadata": {},
   "source": [
    "# Known cell cycle markers"
   ]
  },
  {
   "cell_type": "code",
   "execution_count": null,
   "id": "bb7aa064-cace-4e04-b5d1-74199cc4f179",
   "metadata": {},
   "outputs": [],
   "source": [
    "f = open('regev_lab_cell_cycle_genes.txt', \"r\")\n",
    "cell_cycle_genes = [x.strip() for x in f]\n",
    "f.close()\n",
    "s_genes = cell_cycle_genes[:43]\n",
    "g2m_genes = cell_cycle_genes[43:]\n",
    "cell_cycle_genes = [x for x in cell_cycle_genes if x in adata.var_names]"
   ]
  },
  {
   "cell_type": "code",
   "execution_count": null,
   "id": "fd704d02-f9c7-48f8-9750-86760e0a8a89",
   "metadata": {},
   "outputs": [],
   "source": [
    "# which S genes are in our data?\n",
    "s_in_data = set([s.lower() for s in s_genes]).intersection(set([v.lower() for v in adata.var_names]))\n",
    "s_in_data = [s.upper() for s in s_in_data]\n",
    "s_in_data.sort()\n",
    "\n",
    "# which g2 genes are in our data?\n",
    "g2_in_data = set([s.lower() for s in g2m_genes]).intersection(set([v.lower() for v in adata.var_names]))\n",
    "g2_in_data = [s.upper() for s in g2_in_data]\n",
    "g2_in_data.sort()"
   ]
  },
  {
   "cell_type": "code",
   "execution_count": null,
   "id": "a038f1eb-fc38-41e9-9359-6178cf19cddc",
   "metadata": {},
   "outputs": [],
   "source": [
    "print(f\"Number of S-related genes in the dataset: {len(s_in_data)}\")"
   ]
  },
  {
   "cell_type": "code",
   "execution_count": null,
   "id": "36d2e3b4-dc3a-4510-abbb-697c6461ea81",
   "metadata": {},
   "outputs": [],
   "source": [
    "print(f\"Number of G2-related genes in the dataset: {len(g2_in_data)}\")"
   ]
  },
  {
   "cell_type": "code",
   "execution_count": null,
   "id": "aba35e4e-85c5-482c-9a77-89282cae8375",
   "metadata": {},
   "outputs": [],
   "source": [
    "fig, axs = plt.subplots(8,3)\n",
    "fig.set_figheight(12)\n",
    "fig.set_figwidth(8)\n",
    "for idx, g in enumerate(s_in_data):\n",
    "    i, j = np.unravel_index(idx, axs.shape)\n",
    "    ax = axs[i,j]\n",
    "    x = np.linspace(np.min(adata.obs[\"psupertime\"]), np.max(adata.obs[\"psupertime\"]), len(psdr[g]))\n",
    "    ax.plot(x, psdr[g], label=\"Windowed signal\")\n",
    "    ax.plot(adata.obs[\"psupertime\"], adata[:, g].X[:, 0], \".\", label=\"Cell data\")\n",
    "    ax.axvline((pt_max - pt_min)*5/20 + pt_min, linestyle=\":\", label=\"Transition to S\")\n",
    "    ax.axvline((pt_max-pt_min)*11/20 + pt_min, linestyle=\"--\", label=\"Transition to G2/M\")\n",
    "    # ax.legend()\n",
    "    ax.set_title(f\"{g}\")\n",
    "    # ax.set_xlabel(\"Pseudotime\")\n",
    "    # ax.set_ylabel(\"Gene expression\")\n",
    "    if idx == 11:\n",
    "        ax.legend(bbox_to_anchor=(1,1))\n",
    "fig.tight_layout(rect=[0, 0.03, 1, 0.95])\n",
    "fig.suptitle(\"S genes along pseudotime\")\n",
    "\n",
    "plt.savefig(f\"{r_dir}/s_gene_expression.png\")"
   ]
  },
  {
   "cell_type": "code",
   "execution_count": null,
   "id": "4d7c0b9a-0482-453d-b45d-61ba564aac2c",
   "metadata": {},
   "outputs": [],
   "source": [
    "num_plots = len(g2_in_data)\n",
    "num_columns = 3\n",
    "num_rows = num_plots // num_columns\n",
    "if num_plots % num_columns != 0:\n",
    "    num_rows += 1\n",
    "\n",
    "\n",
    "fig, axs = plt.subplots(num_rows, num_columns)\n",
    "fig.set_figheight(4/3*num_rows)\n",
    "fig.set_figwidth(8)\n",
    "for idx, g in enumerate(g2_in_data):\n",
    "    i, j = np.unravel_index(idx, axs.shape)\n",
    "    ax = axs[i,j]\n",
    "    x = np.linspace(np.min(adata.obs[\"psupertime\"]), np.max(adata.obs[\"psupertime\"]), len(psdr[g]))\n",
    "    ax.plot(x, psdr[g], label=\"Windowed signal\")\n",
    "    ax.plot(adata.obs[\"psupertime\"], adata[:, g].X[:, 0], \".\", label=\"Cell data\")\n",
    "    ax.axvline((pt_max - pt_min)*5/20 + pt_min, linestyle=\":\", label=\"Transition to S\")\n",
    "    ax.axvline((pt_max-pt_min)*11/20 + pt_min, linestyle=\"--\", label=\"Transition to G2/M\")\n",
    "    # ax.legend()\n",
    "    ax.set_title(f\"{g}\")\n",
    "    # ax.set_xlabel(\"Pseudotime\")\n",
    "    # ax.set_ylabel(\"Gene expression\")\n",
    "    if idx == 11:\n",
    "        ax.legend(bbox_to_anchor=(1,1))\n",
    "fig.tight_layout(rect=[0, 0.03, 1, 0.95])\n",
    "fig.suptitle(\"G2M genes along pseudotime\")\n",
    "\n",
    "plt.savefig(f\"{r_dir}/g2m_gene_expression.png\")"
   ]
  },
  {
   "cell_type": "code",
   "execution_count": null,
   "id": "134f06b7-f005-4a39-88f9-7b03309e8bf8",
   "metadata": {},
   "outputs": [],
   "source": [
    "from gprofiler import GProfiler"
   ]
  },
  {
   "cell_type": "code",
   "execution_count": null,
   "id": "6d32ea92-73a2-4099-80c4-fcdfb452e7f1",
   "metadata": {},
   "outputs": [],
   "source": [
    "from gprofiler import GProfiler\n",
    "for idx in range(4):\n",
    "    gp = GProfiler(return_dataframe=True)\n",
    "    results = gp.profile(organism=\"hsapiens\", query=c[idx], sources=['GO:BP', 'GO:MF', 'GO:CC'])\n",
    "    results.sort_values(by=\"p_value\", ascending=True)\n",
    "    sig_res = results[results[\"p_value\"] < 0.05]\n",
    "    break\n",
    "    sig_res[[\"source\", \"native\", \"name\", \"p_value\", \"intersection_size\"]].to_csv(f\"{r_dir}/astral_enrichment_cluster{idx}.csv\")"
   ]
  },
  {
   "cell_type": "code",
   "execution_count": null,
   "id": "f9880bc5-3b17-4f1e-bc97-e9b5051306f8",
   "metadata": {},
   "outputs": [],
   "source": [
    "def plot_df(df: pd.DataFrame, title: str = None, save=None, ax=None, pmin=None, pmax=None, sources=None, annotated_names: list[str] = None\n",
    ") -> None:\n",
    "    \"\"\"\n",
    "    Plots each row of the DataFrame as a circle grouped by the 'source' column.\n",
    "    The horizontal axis displays -log10(p_value) and the vertical positions\n",
    "    are arranged based on the source group with added jitter.\n",
    "    \n",
    "    A legend is added for both the source groups and the circle size scale (intersection_size).\n",
    "    \n",
    "    Parameters:\n",
    "        df (pd.DataFrame): A DataFrame containing the columns:\n",
    "            - 'source': categorical column with 3 categories.\n",
    "            - 'p_value': continuous values.\n",
    "            - 'intersection_size': integers (will be used to scale circle sizes).\n",
    "            - 'name': a descriptor for the row (unused in the plot).\n",
    "    \"\"\"\n",
    "    # Compute the horizontal position: -log10(p_value)\n",
    "    # (Make sure there are no p_value values equal to 0)\n",
    "    df = df.copy()  # Avoid modifying the original DataFrame\n",
    "    fontsize=16\n",
    "    if ax is None:\n",
    "        fig, ax = plt.subplots()\n",
    "        \n",
    "    if (df[\"p_value\"] <= 0).any():\n",
    "        raise ValueError(\"All p_value entries must be positive so that -log10 can be computed.\")\n",
    "\n",
    "    df[\"neg_log10\"] = -np.log10(df[\"p_value\"])\n",
    "\n",
    "    # Create a mapping for each unique source to a base y-position.\n",
    "    if sources is None:\n",
    "        unique_sources = sorted(df[\"source\"].unique())\n",
    "    else:\n",
    "        unique_sources = sorted(np.unique(sources))\n",
    "    source_to_index = {source: idx for idx, source in enumerate(unique_sources, start=1)}\n",
    "\n",
    "    # Map sources to base y positions.\n",
    "    df[\"base_y\"] = df[\"source\"].map(source_to_index)\n",
    "\n",
    "    # Add vertical jitter to separate the circles\n",
    "    np.random.seed(0)  # For reproducibility\n",
    "    jitter = np.random.uniform(-0.2, 0.2, size=len(df))\n",
    "    df[\"y_pos\"] = df[\"base_y\"] + jitter\n",
    "\n",
    "    # Create the plot\n",
    "\n",
    "    # Plot each group with its own color and label.\n",
    "    for source in unique_sources:\n",
    "        subset = df[df[\"source\"] == source]\n",
    "        ax.scatter(\n",
    "            subset[\"neg_log10\"],\n",
    "            subset[\"y_pos\"],\n",
    "            s=subset[\"intersection_size\"] * 10,  # Scale circle sizes; adjust factor as needed.\n",
    "            alpha=0.7,\n",
    "            label=source,  # This will be used in the legend for sources.\n",
    "            edgecolors=\"w\"\n",
    "        )\n",
    "\n",
    "    ax.set_xlabel(\"-log10(p_value)\", fontsize=fontsize)\n",
    "    ax.set_yticks(list(source_to_index.values()), list(source_to_index.keys()), fontsize=fontsize)\n",
    "    ax.set_ylim([0,4])\n",
    "    # plt.ylabel(\"Source Group\")\n",
    "    if title is None:\n",
    "        ax.set_title(\"Function Enrichment Analysis\", fontsize=fontsize)\n",
    "    else:\n",
    "        ax.set_title(title, fontsize=fontsize)\n",
    "\n",
    "    # First, add the legend for the source groups.\n",
    "    # source_legend = plt.legend(title=\"Source\", loc=\"upper right\")\n",
    "    # plt.gca().add_artist(source_legend)\n",
    "\n",
    "    # Now, create a legend for the circle sizes corresponding to 'intersection_size'.\n",
    "    # Use three representative sizes: min, median, and max.\n",
    "    size_min = df[\"intersection_size\"].min()\n",
    "    # size_median = int(df[\"intersection_size\"].median())\n",
    "    \n",
    "    size_max = df[\"intersection_size\"].max()\n",
    "    size_median = int((size_min + size_max)/2) #int(df[\"intersection_size\"].median())\n",
    "    size_scale = 10  # This is the factor applied to intersection_size for the marker size\n",
    "\n",
    "    sizes = [size_min, size_median, size_max]\n",
    "    markers = [\n",
    "        ax.scatter([], [], s=size * size_scale, color=\"gray\", alpha=0.7, edgecolors=\"w\")\n",
    "        for size in sizes\n",
    "    ]\n",
    "    labels = [f\"{size}\" for size in sizes]\n",
    "\n",
    "    if annotated_names:\n",
    "    # You could adjust the base offsets for arrow text.\n",
    "        offset_x = 0.5\n",
    "        offset_y = 0.5\n",
    "        for i, row in df.iterrows():\n",
    "            if row[\"name\"] in annotated_names:\n",
    "                x_point = row[\"neg_log10\"]\n",
    "                y_point = row[\"y_pos\"]\n",
    "                x_text = x_point + offset_x\n",
    "                y_text = y_point + offset_y\n",
    "                ax.annotate(\n",
    "                    row[\"name\"],\n",
    "                    xy=(x_point, y_point),\n",
    "                    xytext=(x_text, y_text),\n",
    "                    arrowprops=dict(facecolor=\"black\", arrowstyle=\"->\"),\n",
    "                    fontsize=10,\n",
    "                    bbox=dict(boxstyle=\"round,pad=0.3\", fc=\"yellow\", alpha=0.5)\n",
    "                )\n",
    "\n",
    "    ax.legend(markers, labels, title=\"Intersection Size\", bbox_to_anchor=(1.05, 1), loc=\"upper left\", borderaxespad=0)\n",
    "    ax.grid()\n",
    "    if pmin is not None and pmax is not None:\n",
    "        ax.set_xlim([pmin, pmax])\n",
    "    plt.tight_layout()\n",
    "    if save is not None:\n",
    "        plt.savefig(save)\n"
   ]
  },
  {
   "cell_type": "code",
   "execution_count": null,
   "id": "f7983269-06ef-4494-b409-a13de429d66a",
   "metadata": {},
   "outputs": [],
   "source": [
    "results = []\n",
    "sources=['GO:BP', 'GO:MF', 'GO:CC']\n",
    "for idx in range(5):\n",
    "    gp = GProfiler(return_dataframe=True)\n",
    "    results.append(gp.profile(organism=\"hsapiens\", query=c[idx], sources=sources))\n",
    "    results[-1].sort_values(by=\"p_value\", ascending=True)\n",
    "    sig_res = results[-1][results[-1][\"p_value\"] < 0.05]\n",
    "    # break\n",
    "    if sig_res.shape[0] == 0:\n",
    "        continue\n",
    "    sig_res[[\"source\", \"native\", \"name\", \"p_value\", \"intersection_size\"]].to_csv(f\"{r_dir}/astral_enrichment_cluster{idx}.csv\")"
   ]
  },
  {
   "cell_type": "code",
   "execution_count": null,
   "id": "83c4e11c-18c3-4a37-94f4-3521e7f232f9",
   "metadata": {},
   "outputs": [],
   "source": []
  },
  {
   "cell_type": "code",
   "execution_count": null,
   "id": "fb552fa6-230f-4127-b283-7ba53e363563",
   "metadata": {},
   "outputs": [],
   "source": [
    "fig, axs = plt.subplots(3)\n",
    "fig.set_figheight(8)\n",
    "fig_idx = 0\n",
    "fontsize=16\n",
    "p_min = np.inf\n",
    "p_max = -np.inf\n",
    "annot_lists = []\n",
    "annot_lists.append([\"fatty acid catabolic process\", \"phagocytic vesicle membrane\"])\n",
    "annot_lists.append([\"DNA replication\", \"nuclear chromosome\"])\n",
    "annot_lists.append([\"N-acylsphingosine amidohydrolase activity\", \"tertiary granule lumen\"])\n",
    "for r2 in results:\n",
    "    r = r2[r2[\"p_value\"] < 0.05]\n",
    "    if r.shape[0] == 0:\n",
    "        continue\n",
    "    mmin = np.min(r[\"p_value\"])\n",
    "    mmax = np.max(r[\"p_value\"])\n",
    "    p_min = np.min([mmin, p_min])\n",
    "    p_max = np.max([mmax, p_max])\n",
    "p_min *= 0.8\n",
    "p_max *= 1.3\n",
    "for idx in range(5):\n",
    "    # gp = GProfiler(return_dataframe=True)\n",
    "    # results = gp.profile(organism=\"hsapiens\", query=c[idx], sources=['GO:BP', 'GO:MF', 'GO:CC'])\n",
    "    # results.sort_values(by=\"p_value\", ascending=True)\n",
    "    sig_res = results[idx][results[idx][\"p_value\"] < 0.05]\n",
    "    # break\n",
    "    if sig_res.shape[0] == 0:\n",
    "        continue\n",
    "    # sig_res[[\"source\", \"native\", \"name\", \"p_value\", \"intersection_size\"]].to_csv(f\"paper_figures/astral_enrichment_cluster{idx}.csv\")\n",
    "    plot_df(sig_res, title=f\"Enrichment for Cluster {idx}\", ax=axs[fig_idx], pmin = -np.log10(p_max), pmax=-np.log10(p_min), sources=sources, annotated_names=annot_lists[idx])\n",
    "    # break\n",
    "    fig_idx += 1\n",
    "# print(results)\n",
    "plt.savefig(f\"{r_dir}/fig9_cellcycle_enrichment.png\")\n",
    "plt.savefig(f\"{r_dir}/fig9_cellcycle_enrichment.svg\")"
   ]
  },
  {
   "cell_type": "markdown",
   "id": "64aa0c20-c621-479f-b875-bfe7311283fe",
   "metadata": {},
   "source": [
    "# Figure assembly"
   ]
  },
  {
   "cell_type": "code",
   "execution_count": null,
   "id": "bf109e6e-97b9-4fc7-92fe-576efbc4a090",
   "metadata": {},
   "outputs": [],
   "source": [
    "import matplotlib.gridspec as gridspec\n",
    "from string import ascii_uppercase"
   ]
  },
  {
   "cell_type": "code",
   "execution_count": null,
   "id": "2f23a3d1-2334-49ee-936f-72c6d99292c1",
   "metadata": {},
   "outputs": [],
   "source": [
    "adata"
   ]
  },
  {
   "cell_type": "code",
   "execution_count": null,
   "id": "7b927c9f-6d3f-4995-80d2-2e9c1f26ee2c",
   "metadata": {},
   "outputs": [],
   "source": [
    "sc.tl.umap(adata)\n",
    "sc.pl.umap(adata)"
   ]
  },
  {
   "cell_type": "code",
   "execution_count": null,
   "id": "4622bb85-890b-4a01-b965-a89161dd6c30",
   "metadata": {},
   "outputs": [],
   "source": [
    "from collections import defaultdict as dd\n",
    "adata_pscs = sc.read_h5ad(\"pscs_cellcycle.h5ad\")\n",
    "cluster_genes = {}\n",
    "pt_signals = dd(list)\n",
    "var_list = list(adata_pscs.var_names)\n",
    "for idx in range(4):\n",
    "    cluster_genes[idx] = list(adata_pscs.uns[\"te_cluster\"].loc[(adata_pscs.uns[\"te_cluster\"] == idx).values].index)\n",
    "    print(len(cluster_genes[idx]))\n",
    "    for g in cluster_genes[idx]:\n",
    "        g_idx = var_list.index(g)\n",
    "        pt_signals[idx].append(adata_pscs.uns[\"pseudotime_signals\"][:, g_idx])\n",
    "sc.tl.umap(adata_pscs)\n",
    "sc.pl.umap(adata_pscs)"
   ]
  },
  {
   "cell_type": "code",
   "execution_count": null,
   "id": "253486d9-577c-4c73-a229-d08f3ac43de6",
   "metadata": {},
   "outputs": [],
   "source": [
    "fig = plt.figure(figsize=(10, 12))\n",
    "gs = gridspec.GridSpec(4, 2, figure=fig)\n",
    "fontsize=16\n",
    "\n",
    "ax = fig.add_subplot(gs[1,1])\n",
    "psupertime_figure = psuper.plot_identified_gene_coefficients(adata, n_top=10, ax=ax)\n",
    "ax.set_title(\"Genes for psupertime\", fontsize=fontsize)\n",
    "ax.text(0.05, 0.15, ascii_uppercase[3], transform=ax.transAxes,\n",
    "            fontsize=16, fontweight='bold', va='top', ha='left')\n",
    "\n",
    "\n",
    "\n",
    "ax = fig.add_subplot(gs[2, :])\n",
    "\n",
    "# Replot with original psupertime values on x-axis\n",
    "ax.stackplot(bin_midpoints, phase_proportions.T.values, labels=phase_proportions.columns, alpha=0.8)\n",
    "\n",
    "# Formatting\n",
    "ax.set_xlabel(\"Pseudotime\", fontsize=fontsize)  # Change x-axis label\n",
    "ax.set_ylabel(\"Proportion of Cells\", fontsize=fontsize)\n",
    "ax.set_title(\"Cell Cycle Phase Proportions Across Pseudotime\", fontsize=fontsize)\n",
    "ax.legend(title=\"Phase\", loc='upper right')\n",
    "ax.grid(False)\n",
    "ax.set_xlim(bin_midpoints[0], bin_midpoints[-1])\n",
    "# Remove all margins from both axes.\n",
    "ax.margins(x=0, y=0)\n",
    "# Adjust subplot parameters to use all the figure area.\n",
    "plt.subplots_adjust(left=0, right=1, top=1, bottom=0)\n",
    "ax.text(0.025, 0.95, ascii_uppercase[4], transform=ax.transAxes,\n",
    "            fontsize=16, fontweight='bold', va='top', ha='left')\n",
    "\n",
    "for idx in [1,3]:\n",
    "    if idx == 1:\n",
    "        plot_idx = 0\n",
    "    else:\n",
    "        plot_idx = 1\n",
    "    ax = fig.add_subplot(gs[3, plot_idx])\n",
    "    for ii in range(len(pt_signals[idx])):\n",
    "        ax.plot(pt_signals[idx][ii])\n",
    "    ax.axvline(last_g1, linestyle=\"--\")\n",
    "    ax.axvline(last_s, linestyle=\"--\")\n",
    "    ax.set_title(f\"Cluster {idx}\", fontsize=fontsize)\n",
    "    g1_tick = last_g1/2\n",
    "    s_tick = (last_s + last_g1)/2\n",
    "    g2_tick = (len(psdr[g]) + last_s)/2\n",
    "    ax.set_xticks([g1_tick, s_tick, g2_tick])\n",
    "    ax.set_xticklabels([\"G1\", \"S\", \"G2M\"], fontsize=fontsize-2)\n",
    "    ax.set_xlabel(\"Pseudotime\", fontsize=fontsize)\n",
    "    ax.text(0.05, 0.95, ascii_uppercase[plot_idx+5], transform=ax.transAxes,\n",
    "            fontsize=16, fontweight='bold', va='top', ha='left')\n",
    "\n",
    "\n",
    "ax_sc = fig.add_subplot(gs[0,0])\n",
    "sc.pl.umap(adata, color=[\"leiden\"], ax=ax_sc, show=False, s=800)\n",
    "ax_sc.set_title(\"Leiden clusters\", fontsize=fontsize)\n",
    "ax_sc.text(0.05, 0.95, ascii_uppercase[0], transform=ax_sc.transAxes,\n",
    "            fontsize=16, fontweight='bold', va='top', ha='left')\n",
    "\n",
    "ax_sc = fig.add_subplot(gs[1,0])\n",
    "sc.pl.umap(adata, color=[\"phase\"], ax=ax_sc, show=False, s=800)\n",
    "ax_sc.set_title(\"Cell cycle phase\", fontsize=fontsize)\n",
    "ax_sc.text(0.05, 0.95, ascii_uppercase[2], transform=ax_sc.transAxes,\n",
    "            fontsize=16, fontweight='bold', va='top', ha='left')\n",
    "\n",
    "\n",
    "ax_sc = fig.add_subplot(gs[0,1])\n",
    "sc.pl.umap(adata, color=[\"n_genes\"], ax=ax_sc, show=False, s=800)\n",
    "ax_sc.text(0.05, 0.95, ascii_uppercase[1], transform=ax_sc.transAxes,\n",
    "            fontsize=16, fontweight='bold', va='top', ha='left')\n",
    "\n",
    "fig.tight_layout()\n",
    "plt.savefig(f\"{r_dir}/fig10_pscs_cellcycle_cluster_pseudotimecourses.png\")\n",
    "plt.savefig(f\"{r_dir}/fig10_pscs_cellcycle_cluster_pseudotimecourses.svg\")"
   ]
  },
  {
   "cell_type": "code",
   "execution_count": null,
   "id": "0d922a72-b32d-49f2-bf85-d02723b47b4f",
   "metadata": {},
   "outputs": [],
   "source": [
    "fig, axs = plt.subplots(1,2)\n",
    "fig.set_figheight(4)\n",
    "fig.set_figwidth(8)\n",
    "mmin = np.min(adata.obs[\"psupertime\"])\n",
    "mmax = np.max(adata.obs[\"psupertime\"])\n",
    "pt = np.linspace(mmin, mmax, len(psdr[\"PCNA\"]))\n",
    "last_g1_pt = (mmax-mmin)*last_g1/30 + mmin\n",
    "last_s_pt = (mmax-mmin)*last_s/30 + mmin\n",
    "for idx, g in enumerate([\"PCNA\", \"UNG\"]):\n",
    "    ax = axs[np.unravel_index(idx, axs.shape)]\n",
    "    ax.plot(pt, psdr[g])\n",
    "    ax.plot(adata.obs[\"psupertime\"], adata[:, g].X[:,0], \".\")\n",
    "    ax.axvline(last_g1_pt, linestyle=\"--\")\n",
    "    ax.axvline(last_s_pt, linestyle=\"--\")\n",
    "    ax.set_title(f\"{g}\")\n",
    "    # ax.set_xlabel(\"Pseudotime\")\n",
    "    g1_tick = (mmin+last_g1_pt)/2\n",
    "    s_tick = (last_s_pt + last_g1_pt)/2\n",
    "    g2_tick = (mmax + last_s_pt)/2\n",
    "    # ax.set_xticks([5,12,25])\n",
    "    ax.set_xticks([g1_tick, s_tick, g2_tick])\n",
    "    ax.set_xticklabels([\"G1\", \"S\", \"G2M\"])\n",
    "    if idx == 0:\n",
    "        ax.set_ylabel(\"Protein Quant.\")\n",
    "    # ax.set_title(f\"{g} - {adata[:, g].var['coverage'][g]}\")\n",
    "fig.tight_layout()\n",
    "fig.savefig(f\"{r_dir}/pcna_ung_pseudotimecourses.png\")\n",
    "fig.savefig(f\"{r_dir}/pcna_ung_pseudotimecourses.svg\")"
   ]
  },
  {
   "cell_type": "markdown",
   "id": "ca2b0ab1-ada7-44a1-83ff-97b651e37293",
   "metadata": {},
   "source": [
    "### Cell cycle genes\n",
    "\n",
    "Since we are using supervised pseudotime to determine cell cycle phase, it is possible that the clusters we are identifying are simply groups of those same genes. This section clusters the pseudotimecourses of those genes and shows that they do not exhibit the same behavior as those identified by scTransient."
   ]
  },
  {
   "cell_type": "code",
   "execution_count": null,
   "id": "3cffa606-61e6-43e7-8118-201179351192",
   "metadata": {},
   "outputs": [],
   "source": [
    "from sklearn.cluster import KMeans"
   ]
  },
  {
   "cell_type": "code",
   "execution_count": null,
   "id": "937d2a43-7689-402b-92f0-85ae3ae461ec",
   "metadata": {},
   "outputs": [],
   "source": [
    "cell_cycle_genes_in_data = set(cell_cycle_genes).intersection(set(adata.var_names))\n",
    "cell_cycle_genes_in_data = list(cell_cycle_genes_in_data)"
   ]
  },
  {
   "cell_type": "code",
   "execution_count": null,
   "id": "5bd39382-0ede-4666-9ab6-1c0b19869591",
   "metadata": {},
   "outputs": [],
   "source": [
    "psdr_mat = np.zeros((len(cell_cycle_genes_in_data), len(psdr[\"UNG\"])))\n",
    "regev_gene_to_idx = {}\n",
    "idx_to_regev_gene = {}\n",
    "for idx, g in enumerate(cell_cycle_genes_in_data):\n",
    "    psdr_mat[idx, :] = psdr[g]\n",
    "    regev_gene_to_idx[g] = idx\n",
    "    idx_to_regev_gene[idx] = g"
   ]
  },
  {
   "cell_type": "code",
   "execution_count": null,
   "id": "5cc648fc-43a1-487c-86ee-07ab144a662d",
   "metadata": {},
   "outputs": [],
   "source": [
    "k=5\n",
    "km = KMeans(n_clusters=k, random_state=42, n_init=10)\n",
    "clusters = km.fit_predict(psdr_mat)\n"
   ]
  },
  {
   "cell_type": "code",
   "execution_count": null,
   "id": "09f76470-13af-4077-80ab-485ecd71c830",
   "metadata": {},
   "outputs": [],
   "source": [
    "# count = 0\n",
    "genes_per_cluster = dd(list)\n",
    "pt_range = np.linspace(mmin, mmax, len(psdr[\"UNG\"]))\n",
    "fig, axs = plt.subplots(3,2)\n",
    "for idx in range(5):\n",
    "    ax = axs[np.unravel_index(idx, axs.shape)]\n",
    "    for gidx, c in enumerate(clusters):\n",
    "        if c == idx:\n",
    "            ax.plot(pt_range, psdr_mat[gidx, :])\n",
    "            genes_per_cluster[idx].append(cell_cycle_genes_in_data[gidx])\n",
    "    ax.set_title(f\"Cluster {idx}\")\n",
    "    ax.axvline(last_g1_pt, linestyle=\"--\")\n",
    "    ax.axvline(last_s_pt, linestyle=\"--\")\n",
    "    g1_tick = (mmin+last_g1_pt)/2\n",
    "    s_tick = (last_s_pt + last_g1_pt)/2\n",
    "    g2_tick = (mmax + last_s_pt)/2\n",
    "    # ax.set_xticks([5,12,25])\n",
    "    ax.set_xticks([g1_tick, s_tick, g2_tick])\n",
    "    ax.set_xticklabels([\"G1\", \"S\", \"G2M\"])\n",
    "    # count += 1\n",
    "fig.tight_layout()\n",
    "fig.delaxes(axs[2,1])\n",
    "plt.savefig(f\"{r_dir}/clustered_cell_cycle_genes.png\")\n",
    "plt.savefig(f\"{r_dir}/clustered_cell_cycle_genes.svg\")"
   ]
  },
  {
   "cell_type": "code",
   "execution_count": null,
   "id": "54c9f79a-5606-4693-a016-0e640a2cd986",
   "metadata": {},
   "outputs": [],
   "source": [
    "for idx in range(5):\n",
    "    f = open(f\"{r_dir}/cell_cycle_cluster_{idx}.txt\", \"w\")\n",
    "    for g in genes_per_cluster[idx]:\n",
    "        f.write(f\"{g}\\n\")\n",
    "    f.close()\n",
    "\n",
    "# genes_per_cluster"
   ]
  }
 ],
 "metadata": {
  "kernelspec": {
   "display_name": "Python311-wavelets",
   "language": "python",
   "name": "python311-wavelets"
  },
  "language_info": {
   "codemirror_mode": {
    "name": "ipython",
    "version": 3
   },
   "file_extension": ".py",
   "mimetype": "text/x-python",
   "name": "python",
   "nbconvert_exporter": "python",
   "pygments_lexer": "ipython3",
   "version": "3.11.11"
  }
 },
 "nbformat": 4,
 "nbformat_minor": 5
}
